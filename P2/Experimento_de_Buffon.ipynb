{
  "nbformat": 4,
  "nbformat_minor": 0,
  "metadata": {
    "colab": {
      "provenance": [],
      "authorship_tag": "ABX9TyPLj00NDMPoyT+xn1HNFXsg",
      "include_colab_link": true
    },
    "kernelspec": {
      "name": "python3",
      "display_name": "Python 3"
    },
    "language_info": {
      "name": "python"
    }
  },
  "cells": [
    {
      "cell_type": "markdown",
      "metadata": {
        "id": "view-in-github",
        "colab_type": "text"
      },
      "source": [
        "<a href=\"https://colab.research.google.com/github/Vannod/Simulacion-I/blob/main/P2/Experimento_de_Buffon.ipynb\" target=\"_parent\"><img src=\"https://colab.research.google.com/assets/colab-badge.svg\" alt=\"Open In Colab\"/></a>"
      ]
    },
    {
      "cell_type": "markdown",
      "source": [
        "# Experimento de la aguja de Buffon\n",
        "Alumna: Ortiz Diaz Vania Yael"
      ],
      "metadata": {
        "id": "JX4N3U_lZ794"
      }
    },
    {
      "cell_type": "markdown",
      "source": [
        "## Simulación"
      ],
      "metadata": {
        "id": "hm7GpLklaHyd"
      }
    },
    {
      "cell_type": "markdown",
      "source": [
        "### Librerias"
      ],
      "metadata": {
        "id": "jrwe9dS-bJ1F"
      }
    },
    {
      "cell_type": "code",
      "source": [
        "import numpy as np\n",
        "import random as rnd\n",
        "import matplotlib.pyplot as plt"
      ],
      "metadata": {
        "id": "fCm8kvdBbL3c"
      },
      "execution_count": 3,
      "outputs": []
    },
    {
      "cell_type": "markdown",
      "source": [
        "### Método"
      ],
      "metadata": {
        "id": "mAOogjyGi3ne"
      }
    },
    {
      "cell_type": "code",
      "source": [
        "def Buffon (n, l, d):\n",
        "  cruces = 0 # Inicialaizamos el contador en cero\n",
        "  for i in range(n):\n",
        "    x = rnd.uniform(0, d / 2) # Definimos una variable aleatoria distribuida uniformemente de (0, d/2) que es la distancia entre el centro de la aguja y la línea más cercana\n",
        "    theta = rnd.uniform(0, np.pi / 2) # Definimos una variable aleatoria distribuida uniformemente de (0, pi/2) que es el ángulo de la aguja\n",
        "    if x <= ((l / 2) * np.sin(theta)): # Condición donde la aguja cruza la línea\n",
        "      cruces += 1 # Aumentamos el contador en uno\n",
        "  Pi = (2 * n * l) / (cruces * d) # Calculamos el valor de pi\n",
        "  return Pi\n",
        "\n",
        "\n",
        "l = 0.05 # Definimos la lungitud de la aguja. En este caso, una aguja de 0.05 metros\n",
        "d = 0.05 # Definimos la distancia que separa una línea de la otra\n",
        "n = 1000000 # Definimos el número de veces que se repite el experimento (Cantidad de agujas que usaremos para el experimento)\n",
        "\n",
        "Aprox_Pi = Buffon(n, l, d) # Aplicamos el método Buffon\n",
        "print(f\"Estimación de Pi: {Aprox_Pi}\")"
      ],
      "metadata": {
        "colab": {
          "base_uri": "https://localhost:8080/"
        },
        "id": "HUoQBq3OaNZJ",
        "outputId": "b1d85f36-7a3c-40f6-b2c9-76d5abe0d91d"
      },
      "execution_count": 7,
      "outputs": [
        {
          "output_type": "stream",
          "name": "stdout",
          "text": [
            "Estimación de Pi: 3.1434332892728767\n"
          ]
        }
      ]
    },
    {
      "cell_type": "markdown",
      "source": [
        "## Solución analítica"
      ],
      "metadata": {
        "id": "f9JyEKiqlVWy"
      }
    },
    {
      "cell_type": "markdown",
      "source": [
        "Sea $l$ la longitud de la aguja y $d$ la distancia entre una línea y otra se tienen los siguientes supuestos:\n",
        "$$\n",
        "x\\in [0, \\frac{d}{2}]\n",
        "\\\\\n",
        "θ∈[0, \\frac{π}{2}]\n",
        "$$\n",
        "\n",
        "Donde $x$ y $\\theta$ son variables aleatorias de distribución uniforme.\n",
        "\n",
        "La condición que se debe cumplir para que la aguja cruce con una de las líneas es:\n",
        "$$\n",
        "x ≤ \\frac{l}{2}senθ\n",
        "$$\n",
        "\n",
        "Entonces para calcular la probabilidad del problema primero debemos definir la función de densidad para $x$ y $θ$\n",
        "$$\n",
        "f(x)=\\frac{2}{d} dx\n",
        "\\\\\n",
        "f(θ)=\\frac{2}{π}dθ\n",
        "$$\n",
        "Ahora integramos ambas variables con una integral doble\n",
        "$$\n",
        "∫_{θ=0}^\\frac{π}{2} ∫_{x=0}^{\\frac{l}{2}senθ} \\frac{2}{d}⋅\\frac{2}{π} dx d\\theta = \\frac{2l}{dπ}\n",
        "$$\n",
        "\n",
        "Para conocer la probabilidad también se tiene:\n",
        "$$\n",
        "\\frac{\\text{Número de experimentos favorables}}{\\text{Número de experimentos}}=\\frac{\\text{Cruces}}{n}\n",
        "$$\n",
        "\n",
        "Luego\n",
        "$$\n",
        "\\frac{\\text{Cruces}}{n}≈\\frac{2l}{dπ}\n",
        "$$\n",
        "\n",
        "Por lo tanto, el valor de $\\pi$ será:\n",
        "$$\n",
        "π≈\\frac{2nl}{\\text{Cruces}⋅d}\n",
        "$$"
      ],
      "metadata": {
        "id": "nb6KMmpvlZjy"
      }
    }
  ]
}