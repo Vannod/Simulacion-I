{
  "nbformat": 4,
  "nbformat_minor": 0,
  "metadata": {
    "colab": {
      "provenance": [],
      "authorship_tag": "ABX9TyPexIeK8QsRTxtEaAKd+jum",
      "include_colab_link": true
    },
    "kernelspec": {
      "name": "python3",
      "display_name": "Python 3"
    },
    "language_info": {
      "name": "python"
    }
  },
  "cells": [
    {
      "cell_type": "markdown",
      "metadata": {
        "id": "view-in-github",
        "colab_type": "text"
      },
      "source": [
        "<a href=\"https://colab.research.google.com/github/Vannod/Simulacion-I/blob/main/P1/Prueba_de_corridas.ipynb\" target=\"_parent\"><img src=\"https://colab.research.google.com/assets/colab-badge.svg\" alt=\"Open In Colab\"/></a>"
      ]
    },
    {
      "cell_type": "markdown",
      "source": [
        "# Prueba de corridas"
      ],
      "metadata": {
        "id": "R2r5EWfeox2I"
      }
    },
    {
      "cell_type": "markdown",
      "source": [
        "Ho: El conjunto de números es indipendendiente\n",
        "\n",
        "Ha: El conjunto de números no es independiente"
      ],
      "metadata": {
        "id": "3ONx_A1fo5qD"
      }
    },
    {
      "cell_type": "code",
      "source": [
        "import pandas as pd\n",
        "import numpy as np\n",
        "from scipy.stats import norm"
      ],
      "metadata": {
        "id": "aBXmVZfVpewy"
      },
      "execution_count": 12,
      "outputs": []
    },
    {
      "cell_type": "code",
      "source": [
        "# Creamos una lista de números aleatorios para hacer nuestra prueba\n",
        "lista = [\n",
        "    0.8797, 0.3884, 0.6289, 0.8750, 0.5999, 0.8589, 0.9996, 0.2415, 0.3808, 0.9606,\n",
        "    0.9848, 0.3469, 0.7977, 0.5844, 0.8147, 0.6431, 0.7387, 0.5613, 0.0318, 0.7401,\n",
        "    0.4557, 0.1592, 0.8536, 0.8846, 0.3410, 0.1492, 0.8681, 0.5291, 0.3188, 0.5992,\n",
        "    0.9170, 0.2204, 0.5991, 0.5461, 0.5739, 0.3254, 0.0856, 0.2258, 0.4603, 0.5027,\n",
        "    0.8376, 0.6235, 0.3681, 0.2088, 0.1525, 0.2006, 0.4720, 0.4272, 0.6360, 0.0954\n",
        "]\n",
        "\n",
        "def ponderacion(lista):\n",
        "    resultado = []\n",
        "\n",
        "    for i in range(1, len(lista)):\n",
        "        # Comparar el número actual con el anterior\n",
        "        if lista[i] < lista[i - 1]:\n",
        "            # Si el número actual es menor que el anterior, asignar 0\n",
        "            resultado.append(0)\n",
        "        else:\n",
        "            # Si el número actual es mayor o igual, asignar 1\n",
        "            resultado.append(1)\n",
        "\n",
        "    return resultado\n",
        "\n",
        "def num_corridas(lista):\n",
        "\n",
        "    cambios = 0\n",
        "\n",
        "    for i in range(1, len(lista)):\n",
        "        # Si el elemento actual y el anterior son diferentes, incrementar el contador de cambios\n",
        "        if lista[i] != lista[i - 1] and lista[i] is not None:\n",
        "            cambios += 1\n",
        "\n",
        "    return cambios\n",
        "\n",
        "s = ponderacion(lista)\n",
        "corridas = num_corridas(s)\n",
        "\n",
        "print(f\"Lista original: {lista}\")\n",
        "print(f\"S: {s}\")\n",
        "print(f\"Co: {corridas}\")\n",
        "\n",
        "n = len(lista)\n",
        "alpha = 0.05\n",
        "\n",
        "media = ((2 * n) - 1) / 3\n",
        "varianza = ((16 * n) - 29) / 90\n",
        "estadistico = np.abs((corridas - media) / np.sqrt(varianza))\n",
        "\n",
        "print(f\"Estadístico: {estadistico}\")\n",
        "\n",
        "# Calculamos el valor crítico\n",
        "z_critico = norm.ppf(1 - alpha/2)\n",
        "print(f\"Valor crítico: {z_critico}\")\n",
        "\n",
        "# Comparamos el estadístico de prueba con el valor crítico\n",
        "if estadistico < z_critico:\n",
        "    print(f\"El estadístico de prueba {estadistico} es menor que el valor crítico de z {z_critico}, no se rechaza la hipótesis nula.\")\n",
        "else:\n",
        "    print(f\"El estadístico de prueba {estadistico} es mayor que el valor crítico de z {z_critico}, se rechaza la hipótesis nula.\")"
      ],
      "metadata": {
        "id": "gVX5SgqexkSH",
        "colab": {
          "base_uri": "https://localhost:8080/"
        },
        "outputId": "88c476c8-a2fc-47e8-c34b-f7fddaa64054"
      },
      "execution_count": 15,
      "outputs": [
        {
          "output_type": "stream",
          "name": "stdout",
          "text": [
            "Lista original: [0.8797, 0.3884, 0.6289, 0.875, 0.5999, 0.8589, 0.9996, 0.2415, 0.3808, 0.9606, 0.9848, 0.3469, 0.7977, 0.5844, 0.8147, 0.6431, 0.7387, 0.5613, 0.0318, 0.7401, 0.4557, 0.1592, 0.8536, 0.8846, 0.341, 0.1492, 0.8681, 0.5291, 0.3188, 0.5992, 0.917, 0.2204, 0.5991, 0.5461, 0.5739, 0.3254, 0.0856, 0.2258, 0.4603, 0.5027, 0.8376, 0.6235, 0.3681, 0.2088, 0.1525, 0.2006, 0.472, 0.4272, 0.636, 0.0954]\n",
            "S: [0, 1, 1, 0, 1, 1, 0, 1, 1, 1, 0, 1, 0, 1, 0, 1, 0, 0, 1, 0, 0, 1, 1, 0, 0, 1, 0, 0, 1, 1, 0, 1, 0, 1, 0, 0, 1, 1, 1, 1, 0, 0, 0, 0, 1, 1, 0, 1, 0]\n",
            "Co: 30\n",
            "Estadístico: 1.0249798327711375\n",
            "Valor crítico: 1.959963984540054\n",
            "El estadístico de prueba 1.0249798327711375 es menor que el valor crítico de z 1.959963984540054, no se rechaza la hipótesis nula.\n"
          ]
        }
      ]
    }
  ]
}