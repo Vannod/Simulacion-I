{
  "nbformat": 4,
  "nbformat_minor": 0,
  "metadata": {
    "colab": {
      "provenance": [],
      "authorship_tag": "ABX9TyOexNzOnk3WfCoYOg+Uxbdd",
      "include_colab_link": true
    },
    "kernelspec": {
      "name": "python3",
      "display_name": "Python 3"
    },
    "language_info": {
      "name": "python"
    }
  },
  "cells": [
    {
      "cell_type": "markdown",
      "metadata": {
        "id": "view-in-github",
        "colab_type": "text"
      },
      "source": [
        "<a href=\"https://colab.research.google.com/github/Vannod/Simulacion-I/blob/main/P1/Producto_medio.ipynb\" target=\"_parent\"><img src=\"https://colab.research.google.com/assets/colab-badge.svg\" alt=\"Open In Colab\"/></a>"
      ]
    },
    {
      "cell_type": "markdown",
      "source": [
        "## Producto medio"
      ],
      "metadata": {
        "id": "Zbw-hwnw2QxI"
      }
    },
    {
      "cell_type": "code",
      "execution_count": 24,
      "metadata": {
        "colab": {
          "base_uri": "https://localhost:8080/"
        },
        "id": "l2ta8dSw2AXM",
        "outputId": "f764b26c-09c9-400d-a6a0-58a5382da418"
      },
      "outputs": [
        {
          "name": "stdout",
          "output_type": "stream",
          "text": [
            "Introduce una semilla de 3 dígitos: 487\n",
            "Introduce la segunda semilla de la misma cantidad de dígitos: 596\n",
            "¿Cuántas iteraciones deseas hacer?: 6\n"
          ]
        },
        {
          "output_type": "execute_result",
          "data": {
            "text/plain": [
              "[902, 375, 382, 432, 650, 808]"
            ]
          },
          "metadata": {},
          "execution_count": 24
        }
      ],
      "source": [
        "# Definimos una función cuyos parámetros sean nuestras dos semillas y el número de iteraciones que queremos\n",
        "def producto_medio(semilla_1, semilla_2, iteraciones):\n",
        "  result = []\n",
        "\n",
        "  # Realizamos las iteraciones deseadas\n",
        "  for i in range(iteraciones):\n",
        "      producto = semilla_1 * semilla_2\n",
        "      producto_str = str(producto)\n",
        "\n",
        "      # Tomamos los 3 dígitos de en medio\n",
        "      producto_medio = int(producto_str[1:4])\n",
        "\n",
        "      # Actualizamos el valor de nuestras semillas\n",
        "      semilla_1 = semilla_2\n",
        "      semilla_2 = producto_medio\n",
        "      result.append(producto_medio)\n",
        "  return result\n",
        "\n",
        "semilla_1 = int(input(\"Introduce una semilla de 3 dígitos: \"))\n",
        "semilla_2 = int(input(\"Introduce la segunda semilla de la misma cantidad de dígitos: \"))\n",
        "iteraciones = int(input(\"¿Cuántas iteraciones deseas hacer?: \"))\n",
        "\n",
        "producto_medio(semilla_1, semilla_2, iteraciones)"
      ]
    }
  ]
}