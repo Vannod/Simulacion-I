{
  "nbformat": 4,
  "nbformat_minor": 0,
  "metadata": {
    "colab": {
      "provenance": [],
      "authorship_tag": "ABX9TyPPWgy6PwzKmSCPvPOL7+0S",
      "include_colab_link": true
    },
    "kernelspec": {
      "name": "python3",
      "display_name": "Python 3"
    },
    "language_info": {
      "name": "python"
    }
  },
  "cells": [
    {
      "cell_type": "markdown",
      "metadata": {
        "id": "view-in-github",
        "colab_type": "text"
      },
      "source": [
        "<a href=\"https://colab.research.google.com/github/Vannod/Simulacion-I/blob/main/P1/Producto_medio.ipynb\" target=\"_parent\"><img src=\"https://colab.research.google.com/assets/colab-badge.svg\" alt=\"Open In Colab\"/></a>"
      ]
    },
    {
      "cell_type": "markdown",
      "source": [
        "## Producto medio"
      ],
      "metadata": {
        "id": "Zbw-hwnw2QxI"
      }
    },
    {
      "cell_type": "code",
      "execution_count": 6,
      "metadata": {
        "colab": {
          "base_uri": "https://localhost:8080/"
        },
        "id": "l2ta8dSw2AXM",
        "outputId": "23200c95-cd59-405d-83fc-2bd38ee6a3b7"
      },
      "outputs": [
        {
          "output_type": "stream",
          "name": "stdout",
          "text": [
            "Introduce una semilla de 3 dígitos: 293\n",
            "Introduce la segunda semilla de la misma cantidad de dígitos: 879\n",
            "¿Cuántas iteraciones deseas hacer?: 8\n",
            "Iteración Semilla 1 Semilla 2 Producto  Producto Medio\n",
            "1         293       879       257547    575       \n",
            "2         879       575       505425    54        \n",
            "3         575       54        31050     105       \n",
            "4         54        105       5670      670       \n",
            "5         105       670       70350     35        \n",
            "6         670       35        23450     345       \n",
            "7         35        345       12075     207       \n",
            "8         345       207       71415     141       \n",
            "Después de realizar 8 iteraciones obtenemos los siguientes números aleatorios: [575, 54, 105, 670, 35, 345, 207, 141]\n"
          ]
        }
      ],
      "source": [
        "# Definimos una función cuyos parámetros sean nuestras dos semillas y el número de iteraciones que queremos\n",
        "def producto_medio(semilla_1, semilla_2, iteraciones):\n",
        "  result = []\n",
        "\n",
        "  # Creamos una tabla para tabular los resultados\n",
        "\n",
        "  print(f\"{'Iteración':<10}{'Semilla 1':<10}{'Semilla 2':<10}{'Producto':<10}{'Producto Medio':<10}\")\n",
        "\n",
        "  # Realizamos las iteraciones deseadas\n",
        "  for i in range(iteraciones):\n",
        "      producto = semilla_1 * semilla_2\n",
        "      producto_str = str(producto)\n",
        "\n",
        "      # Tomamos los 3 dígitos de en medio\n",
        "      producto_medio = int(producto_str[1:4])\n",
        "\n",
        "      # Imprime la tabla con n iteraciones\n",
        "\n",
        "      print(f\"{i+1:<10}{semilla_1:<10}{semilla_2:<10}{producto:<10}{producto_medio:<10}\")\n",
        "\n",
        "      # Actualizamos el valor de nuestras semillas\n",
        "      semilla_1 = semilla_2\n",
        "      semilla_2 = producto_medio\n",
        "      result.append(producto_medio)\n",
        "  return result\n",
        "\n",
        "semilla_1 = int(input(\"Introduce una semilla de 3 dígitos: \"))\n",
        "semilla_2 = int(input(\"Introduce la segunda semilla de la misma cantidad de dígitos: \"))\n",
        "iteraciones = int(input(\"¿Cuántas iteraciones deseas hacer?: \"))\n",
        "\n",
        "resultados = producto_medio(semilla_1, semilla_2, iteraciones)\n",
        "\n",
        "print(f\"Después de realizar {iteraciones} iteraciones obtenemos los siguientes números aleatorios: {resultados}\")"
      ]
    }
  ]
}