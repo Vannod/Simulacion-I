{
  "nbformat": 4,
  "nbformat_minor": 0,
  "metadata": {
    "colab": {
      "provenance": [],
      "authorship_tag": "ABX9TyPUBQh/2QUZJRkguePr+xOi",
      "include_colab_link": true
    },
    "kernelspec": {
      "name": "python3",
      "display_name": "Python 3"
    },
    "language_info": {
      "name": "python"
    }
  },
  "cells": [
    {
      "cell_type": "markdown",
      "metadata": {
        "id": "view-in-github",
        "colab_type": "text"
      },
      "source": [
        "<a href=\"https://colab.research.google.com/github/Vannod/Simulacion-I/blob/main/P1/Prueba_K_S.ipynb\" target=\"_parent\"><img src=\"https://colab.research.google.com/assets/colab-badge.svg\" alt=\"Open In Colab\"/></a>"
      ]
    },
    {
      "cell_type": "markdown",
      "source": [
        "# Prueba de kolmogorov-smirnov"
      ],
      "metadata": {
        "id": "jZCzegCvuOjL"
      }
    },
    {
      "cell_type": "markdown",
      "source": [
        "Ho: Los datos analizados siguen una distribución normal\n",
        "\n",
        "Ha: Los datos analizados no siguen una distribución normal\n"
      ],
      "metadata": {
        "id": "xUsEfALh5Ja7"
      }
    },
    {
      "cell_type": "code",
      "source": [
        "import math\n",
        "import pandas as pd\n",
        "import numpy as np\n",
        "\n",
        "!pip install scipy\n",
        "from scipy.stats import norm\n",
        "from scipy.stats import kstwobign"
      ],
      "metadata": {
        "colab": {
          "base_uri": "https://localhost:8080/"
        },
        "id": "JUfDWU6iuhOT",
        "outputId": "bf617bda-d48e-447d-b292-2199230f579e"
      },
      "execution_count": 15,
      "outputs": [
        {
          "output_type": "stream",
          "name": "stdout",
          "text": [
            "Requirement already satisfied: scipy in /usr/local/lib/python3.10/dist-packages (1.11.4)\n",
            "Requirement already satisfied: numpy<1.28.0,>=1.21.6 in /usr/local/lib/python3.10/dist-packages (from scipy) (1.25.2)\n"
          ]
        }
      ]
    },
    {
      "cell_type": "code",
      "source": [
        "# Creamos una lista de números aleatorios para hacer nuestra prueba\n",
        "lista = [\n",
        "    0.8797, 0.3884, 0.6289, 0.8750, 0.5999, 0.8589, 0.9996, 0.2415, 0.3808, 0.9606,\n",
        "    0.9848, 0.3469, 0.7977, 0.5844, 0.8147, 0.6431, 0.7387, 0.5613, 0.0318, 0.7401,\n",
        "    0.4557, 0.1592, 0.8536, 0.8846, 0.3410, 0.1492, 0.8681, 0.5291, 0.3188, 0.5992,\n",
        "    0.9170, 0.2204, 0.5991, 0.5461, 0.5739, 0.3254, 0.0856, 0.2258, 0.4603, 0.5027,\n",
        "    0.8376, 0.6235, 0.3681, 0.2088, 0.1525, 0.2006, 0.4720, 0.4272, 0.6360, 0.0954\n",
        "]\n",
        "\n",
        "contador = len(lista)\n",
        "\n",
        "lista_ordenada = sorted(lista)\n",
        "\n",
        "print(lista_ordenada)\n",
        "\n",
        "contador = len(lista_ordenada)\n",
        "\n",
        "\n",
        "def estadistico(lista_ordenada, cdf):\n",
        "    n = contador\n",
        "    D_plus = max((i / n) - cdf(x) for i, x in enumerate(lista_ordenada))\n",
        "    D_minus = max(cdf(x) - ((i - 1) / n) for i, x in enumerate(lista_ordenada))\n",
        "    return max(D_plus, D_minus)\n",
        "\n",
        "cdf = norm.cdf  # CDF de una distribución normal\n",
        "\n",
        "D = estadistico(lista_ordenada, cdf)\n",
        "print(f\"Estadístico D: {D}\")\n",
        "\n",
        "D_critica = kstwobign.ppf(0.05) / np.sqrt(contador)\n",
        "print(f\"Valor crítico calculado D: {D_critica}\")\n",
        "\n",
        "if D > D_critica:\n",
        "    print(f\"Rechazar la hipótesis nula. D calculado ({D:.3f}) > D crítico ({D_critica:.3f})\")\n",
        "else:\n",
        "    print(f\"No rechazar la hipótesis nula. D calculado ({D:.3f}) <= D crítico ({D_critica:.3f})\")"
      ],
      "metadata": {
        "colab": {
          "base_uri": "https://localhost:8080/"
        },
        "id": "crpstEunx5mO",
        "outputId": "b29b5852-b0b8-405b-cb0c-11f045590b29"
      },
      "execution_count": 29,
      "outputs": [
        {
          "output_type": "stream",
          "name": "stdout",
          "text": [
            "[0.0318, 0.0856, 0.0954, 0.1492, 0.1525, 0.1592, 0.2006, 0.2088, 0.2204, 0.2258, 0.2415, 0.3188, 0.3254, 0.341, 0.3469, 0.3681, 0.3808, 0.3884, 0.4272, 0.4557, 0.4603, 0.472, 0.5027, 0.5291, 0.5461, 0.5613, 0.5739, 0.5844, 0.5991, 0.5992, 0.5999, 0.6235, 0.6289, 0.636, 0.6431, 0.7387, 0.7401, 0.7977, 0.8147, 0.8376, 0.8536, 0.8589, 0.8681, 0.875, 0.8797, 0.8846, 0.917, 0.9606, 0.9848, 0.9996]\n",
            "Estadístico D: 0.5341078007694631\n",
            "Valor crítico calculado D: 0.07348400453700923\n",
            "Rechazar la hipótesis nula. D calculado (0.534) > D crítico (0.073)\n"
          ]
        }
      ]
    }
  ]
}