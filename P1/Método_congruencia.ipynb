{
  "nbformat": 4,
  "nbformat_minor": 0,
  "metadata": {
    "colab": {
      "provenance": [],
      "authorship_tag": "ABX9TyOQ/KpsT1IasVQlT68nK5M6",
      "include_colab_link": true
    },
    "kernelspec": {
      "name": "python3",
      "display_name": "Python 3"
    },
    "language_info": {
      "name": "python"
    }
  },
  "cells": [
    {
      "cell_type": "markdown",
      "metadata": {
        "id": "view-in-github",
        "colab_type": "text"
      },
      "source": [
        "<a href=\"https://colab.research.google.com/github/Vannod/Simulacion-I/blob/main/P1/M%C3%A9todo_congruencia.ipynb\" target=\"_parent\"><img src=\"https://colab.research.google.com/assets/colab-badge.svg\" alt=\"Open In Colab\"/></a>"
      ]
    },
    {
      "cell_type": "markdown",
      "source": [
        "### Método de congruencia. Lehmer, 1949"
      ],
      "metadata": {
        "id": "RUfqzqtQMyNu"
      }
    },
    {
      "cell_type": "code",
      "source": [
        "def metodo_congruencia(a, c, m, semilla, iteraciones):\n",
        "    result = []\n",
        "    x_n = semilla\n",
        "    for _ in range(iteraciones):\n",
        "        x_n =  (a*x_n + c) % m\n",
        "        result.append(x_n)\n",
        "    return result\n",
        "\n",
        "a = int(input(\"Ingrese el valor de a: \"))\n",
        "c = int(input(\"Ingrese el valor de c: \"))\n",
        "m = int(input(\"Defina el valor de m (debe ser mayor al valor de la semilla): \"))\n",
        "semilla = int(input(\"Defina el valor de la semilla: \"))\n",
        "iteraciones = int(input(\"Número de iteraciones: \"))5\n",
        "\n",
        "metodo_congruencia(a, c, m, semilla, iteraciones)\n"
      ],
      "metadata": {
        "colab": {
          "base_uri": "https://localhost:8080/"
        },
        "id": "a_EacKSvM6kM",
        "outputId": "40b401e9-f95d-424d-fac9-bea0f8f392ec"
      },
      "execution_count": 18,
      "outputs": [
        {
          "name": "stdout",
          "output_type": "stream",
          "text": [
            "Ingrese el valor de a: 5\n",
            "Ingrese el valor de c: 5\n",
            "Defina el valor de m (debe ser mayor al valor de la semilla): 16\n",
            "Defina el valor de la semilla: 6\n",
            "Número de iteraciones: 5\n"
          ]
        },
        {
          "output_type": "execute_result",
          "data": {
            "text/plain": [
              "[3, 4, 9, 2, 15]"
            ]
          },
          "metadata": {},
          "execution_count": 18
        }
      ]
    }
  ]
}