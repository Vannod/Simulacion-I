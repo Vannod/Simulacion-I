{
  "nbformat": 4,
  "nbformat_minor": 0,
  "metadata": {
    "colab": {
      "provenance": [],
      "authorship_tag": "ABX9TyMEr1cCJx9AimRnuuoPYo+J",
      "include_colab_link": true
    },
    "kernelspec": {
      "name": "python3",
      "display_name": "Python 3"
    },
    "language_info": {
      "name": "python"
    }
  },
  "cells": [
    {
      "cell_type": "markdown",
      "metadata": {
        "id": "view-in-github",
        "colab_type": "text"
      },
      "source": [
        "<a href=\"https://colab.research.google.com/github/Vannod/Simulacion-I/blob/main/P1/M%C3%A9todo_congruencia_tabulado.ipynb\" target=\"_parent\"><img src=\"https://colab.research.google.com/assets/colab-badge.svg\" alt=\"Open In Colab\"/></a>"
      ]
    },
    {
      "cell_type": "markdown",
      "source": [
        "### Método de congruencia. Lehmer, 1949"
      ],
      "metadata": {
        "id": "RUfqzqtQMyNu"
      }
    },
    {
      "cell_type": "code",
      "source": [
        "import pandas as pd"
      ],
      "metadata": {
        "id": "_9jtvZnBGlcK"
      },
      "execution_count": 1,
      "outputs": []
    },
    {
      "cell_type": "code",
      "source": [
        "def metodo_congruencia(a, c, m, semilla, iteraciones):\n",
        "    result = []\n",
        "    x_n = semilla\n",
        "    for _ in range(iteraciones):\n",
        "        x_n =  (a*x_n + c) % m\n",
        "        result.append(x_n)\n",
        "    return result\n",
        "\n",
        "a = int(input(\"Ingrese el valor de a: \"))\n",
        "c = int(input(\"Ingrese el valor de c: \"))\n",
        "m = int(input(\"Defina el valor de m (debe ser mayor al valor de la semilla): \"))\n",
        "semilla = int(input(\"Defina el valor de la semilla: \"))\n",
        "iteraciones = int(input(\"Número de iteraciones: \"))\n",
        "\n",
        "\n",
        "resultados = metodo_congruencia(a, c, m, semilla, iteraciones)\n",
        "\n",
        "# Creamos un dataframe haciendo uso de la libreria pandas\n",
        "\n",
        "tabla = pd.DataFrame({\"Iteración\": range(1, iteraciones + 1), \"Valor de X_n\": resultados})\n",
        "\n",
        "# Imprime la tabla\n",
        "print(\"\\n**Tabla de resultados:**\")\n",
        "print(tabla.to_markdown(index=False, tablefmt=\"pretty\"))"
      ],
      "metadata": {
        "id": "a_EacKSvM6kM",
        "colab": {
          "base_uri": "https://localhost:8080/"
        },
        "outputId": "bc9587cf-92ac-4d2f-85b0-d7ee3b9dfbe0"
      },
      "execution_count": 5,
      "outputs": [
        {
          "output_type": "stream",
          "name": "stdout",
          "text": [
            "Ingrese el valor de a: 5\n",
            "Ingrese el valor de c: 5\n",
            "Defina el valor de m (debe ser mayor al valor de la semilla): 16\n",
            "Defina el valor de la semilla: 6\n",
            "Número de iteraciones: 5\n",
            "\n",
            "**Tabla de resultados:**\n",
            "+-----------+--------------+\n",
            "| Iteración | Valor de X_n |\n",
            "+-----------+--------------+\n",
            "|     1     |      3       |\n",
            "|     2     |      4       |\n",
            "|     3     |      9       |\n",
            "|     4     |      2       |\n",
            "|     5     |      15      |\n",
            "+-----------+--------------+\n"
          ]
        }
      ]
    }
  ]
}