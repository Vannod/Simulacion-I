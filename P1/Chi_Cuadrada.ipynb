{
  "nbformat": 4,
  "nbformat_minor": 0,
  "metadata": {
    "colab": {
      "provenance": [],
      "authorship_tag": "ABX9TyPAaAsIriCB6POAE2mt3AVk",
      "include_colab_link": true
    },
    "kernelspec": {
      "name": "python3",
      "display_name": "Python 3"
    },
    "language_info": {
      "name": "python"
    }
  },
  "cells": [
    {
      "cell_type": "markdown",
      "metadata": {
        "id": "view-in-github",
        "colab_type": "text"
      },
      "source": [
        "<a href=\"https://colab.research.google.com/github/Vannod/Simulacion-I/blob/main/P1/Chi_Cuadrada.ipynb\" target=\"_parent\"><img src=\"https://colab.research.google.com/assets/colab-badge.svg\" alt=\"Open In Colab\"/></a>"
      ]
    },
    {
      "cell_type": "markdown",
      "source": [
        "# Prueba Chi-cuadrada"
      ],
      "metadata": {
        "id": "dsReDsXhaMRg"
      }
    },
    {
      "cell_type": "markdown",
      "source": [
        "Ho: El conjunto de números sigue una distribución uniforme\n",
        "\n",
        "Ha: El conjunto de números no sigue una distribución uniforme"
      ],
      "metadata": {
        "id": "vtl_a4hIrivW"
      }
    },
    {
      "cell_type": "code",
      "source": [
        "# Importamos las librerias que utilizaremos para nuestro programa\n",
        "import math\n",
        "import pandas as pd\n",
        "import numpy as np\n",
        "\n",
        "!pip install scipy\n",
        "from scipy.stats import chi2, chisquare"
      ],
      "metadata": {
        "id": "RIOWdQfse0Ma"
      },
      "execution_count": null,
      "outputs": []
    },
    {
      "cell_type": "code",
      "source": [
        "# Creamos una lista de números aleatorios para hacer nuestra prueba\n",
        "lista = [\n",
        "    0.8797, 0.3884, 0.6289, 0.8750, 0.5999, 0.8589, 0.9996, 0.2415, 0.3808, 0.9606,\n",
        "    0.9848, 0.3469, 0.7977, 0.5844, 0.8147, 0.6431, 0.7387, 0.5613, 0.0318, 0.7401,\n",
        "    0.4557, 0.1592, 0.8536, 0.8846, 0.3410, 0.1492, 0.8681, 0.5291, 0.3188, 0.5992,\n",
        "    0.9170, 0.2204, 0.5991, 0.5461, 0.5739, 0.3254, 0.0856, 0.2258, 0.4603, 0.5027,\n",
        "    0.8376, 0.6235, 0.3681, 0.2088, 0.1525, 0.2006, 0.4720, 0.4272, 0.6360, 0.0954\n",
        "]\n",
        "\n",
        "contador = len(lista)\n",
        "\n",
        "m = math.sqrt(contador)\n",
        "m = round(m) # Número de subintervalos\n",
        "\n",
        "g_l = m - 1 # Grados de libertad\n",
        "\n",
        "subintervalos = pd.interval_range(start=0, end=1, periods=m)\n",
        "\n",
        "# Creamos un DataFrame para tabular nuestras frecuencias\n",
        "df = pd.DataFrame(index=subintervalos)\n",
        "\n",
        "df['Frecuencia observada'] = pd.cut(lista, bins=df.index).value_counts()\n",
        "\n",
        "df['Frecuencia acumulada'] = df['Frecuencia observada'].cumsum()\n",
        "\n",
        "df['Frecuencia esperada'] = len(lista) / m\n",
        "\n",
        "# Calculamos el estadístico\n",
        "df['Estadístico'] = ((df['Frecuencia esperada'] - df['Frecuencia observada'])**2) / df['Frecuencia esperada']\n",
        "\n",
        "# Mostramos la tabla\n",
        "print(df)"
      ],
      "metadata": {
        "colab": {
          "base_uri": "https://localhost:8080/"
        },
        "id": "6WsHNhqMaTX-",
        "outputId": "27ef6ed2-606a-4dc3-b333-3a3d0e59acd7"
      },
      "execution_count": 31,
      "outputs": [
        {
          "output_type": "stream",
          "name": "stdout",
          "text": [
            "                                           Frecuencia observada  \\\n",
            "(0.0, 0.14285714285714285]                                    3   \n",
            "(0.14285714285714285, 0.2857142857142857]                     8   \n",
            "(0.2857142857142857, 0.42857142857142855]                     8   \n",
            "(0.42857142857142855, 0.5714285714285714]                     7   \n",
            "(0.5714285714285714, 0.7142857142857142]                      9   \n",
            "(0.7142857142857142, 0.8571428571428571]                      6   \n",
            "(0.8571428571428571, 1.0]                                     9   \n",
            "\n",
            "                                           Frecuencia acumulada  \\\n",
            "(0.0, 0.14285714285714285]                                    3   \n",
            "(0.14285714285714285, 0.2857142857142857]                    11   \n",
            "(0.2857142857142857, 0.42857142857142855]                    19   \n",
            "(0.42857142857142855, 0.5714285714285714]                    26   \n",
            "(0.5714285714285714, 0.7142857142857142]                     35   \n",
            "(0.7142857142857142, 0.8571428571428571]                     41   \n",
            "(0.8571428571428571, 1.0]                                    50   \n",
            "\n",
            "                                           Frecuencia esperada  Estadístico  \n",
            "(0.0, 0.14285714285714285]                            7.142857     2.402857  \n",
            "(0.14285714285714285, 0.2857142857142857]             7.142857     0.102857  \n",
            "(0.2857142857142857, 0.42857142857142855]             7.142857     0.102857  \n",
            "(0.42857142857142855, 0.5714285714285714]             7.142857     0.002857  \n",
            "(0.5714285714285714, 0.7142857142857142]              7.142857     0.482857  \n",
            "(0.7142857142857142, 0.8571428571428571]              7.142857     0.182857  \n",
            "(0.8571428571428571, 1.0]                             7.142857     0.482857  \n"
          ]
        }
      ]
    },
    {
      "cell_type": "code",
      "source": [
        "# Sumamos los valores de la columna \"Estadístico\"\n",
        "suma = df['Estadístico'].sum()\n",
        "print(f\"El valor del estadístico es: {suma}\")\n",
        "\n",
        "# Calcula el valor crítico de la distribución Chi-cuadrada\n",
        "valor_critico = chi2.ppf(1 - 0.05, g_l)  # Asumiendo un nivel de significancia del 5%\n",
        "\n",
        "# Valor crítico\n",
        "print(f\"El valor crítico es: {valor_critico}\")\n",
        "\n",
        "# Compara el estadístico con el valor crítico\n",
        "if suma > valor_critico:\n",
        "    print(f\"El estadístico de prueba ({suma}) es mayor que el valor crítico ({valor_critico}), por lo tanto, se rechaza la hipótesis nula.\")\n",
        "else:\n",
        "    print(f\"El estadístico de prueba ({suma}) no es mayor que el valor crítico ({valor_critico}), por lo tanto, no se rechaza la hipótesis nula.\")"
      ],
      "metadata": {
        "colab": {
          "base_uri": "https://localhost:8080/"
        },
        "id": "QL12glG1sMZ6",
        "outputId": "457d64d1-5fb8-40a1-c628-e7336bad1095"
      },
      "execution_count": 33,
      "outputs": [
        {
          "output_type": "stream",
          "name": "stdout",
          "text": [
            "El valor del estadístico es: 3.7599999999999993\n",
            "El valor crítico es: 12.591587243743977\n",
            "El estadístico de prueba (3.7599999999999993) no es mayor que el valor crítico (12.591587243743977), por lo tanto, no se rechaza la hipótesis nula.\n"
          ]
        }
      ]
    },
    {
      "cell_type": "markdown",
      "source": [
        "Implementación del código para que los valores como el nivel de significancia y la lista de números sean ingresados por el usuario"
      ],
      "metadata": {
        "id": "3rUN3WGGuFeE"
      }
    },
    {
      "cell_type": "code",
      "source": [
        "# Solicitar al usuario que ingrese la lista de números y el nivel de significancia\n",
        "lista_usuario = input(\"Ingrese la lista de números separados por comas: \")\n",
        "lista_numeros = [float(num) for num in lista_usuario.split(',')]\n",
        "\n",
        "significancia = float(input(\"Ingrese el nivel de significancia: \"))\n",
        "\n",
        "contador = len(lista_numeros)\n",
        "\n",
        "m = math.sqrt(contador)\n",
        "m = round(m) # Número de subintervalos\n",
        "\n",
        "g_l = m - 1 # Grados de libertad\n",
        "\n",
        "subintervalos = pd.interval_range(start=0, end=1, periods=m)\n",
        "\n",
        "# Creamos un DataFrame para tabular nuestras frecuencias\n",
        "df = pd.DataFrame(index=subintervalos)\n",
        "\n",
        "df['Frecuencia observada'] = pd.cut(lista_numeros, bins=df.index).value_counts()\n",
        "\n",
        "df['Frecuencia acumulada'] = df['Frecuencia observada'].cumsum()\n",
        "\n",
        "df['Frecuencia esperada'] = len(lista_numeros) / m\n",
        "\n",
        "# Calculamos el estadístico\n",
        "df['Estadístico'] = ((df['Frecuencia esperada'] - df['Frecuencia observada'])**2) / df['Frecuencia esperada']\n",
        "\n",
        "# Mostramos la tabla\n",
        "print(df)"
      ],
      "metadata": {
        "id": "NlzufuLBuWrr"
      },
      "execution_count": null,
      "outputs": []
    },
    {
      "cell_type": "code",
      "source": [
        "# Sumamos los valores de la columna \"Estadístico\"\n",
        "suma = df['Estadístico'].sum()\n",
        "print(f\"El valor del estadístico es: {suma}\")\n",
        "\n",
        "# Calcula el valor crítico de la distribución Chi-cuadrada\n",
        "valor_critico = chi2.ppf(1 - significancia , g_l)  # Asumiendo un nivel de significancia del 5%\n",
        "\n",
        "# Valor crítico\n",
        "print(f\"El valor crítico es: {valor_critico}\")\n",
        "\n",
        "# Compara el estadístico con el valor crítico\n",
        "if suma > valor_critico:\n",
        "    print(f\"El estadístico de prueba ({suma}) es mayor que el valor crítico ({valor_critico}), por lo tanto, se rechaza la hipótesis nula.\")\n",
        "else:\n",
        "    print(f\"El estadístico de prueba ({suma}) no es mayor que el valor crítico ({valor_critico}), por lo tanto, no se rechaza la hipótesis nula.\")"
      ],
      "metadata": {
        "id": "elPwMGmTu5wi"
      },
      "execution_count": null,
      "outputs": []
    }
  ]
}