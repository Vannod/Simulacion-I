{
  "cells": [
    {
      "cell_type": "markdown",
      "metadata": {
        "id": "view-in-github",
        "colab_type": "text"
      },
      "source": [
        "<a href=\"https://colab.research.google.com/github/Vannod/Simulacion-I/blob/main/P1/Cuadrado_medio.ipynb\" target=\"_parent\"><img src=\"https://colab.research.google.com/assets/colab-badge.svg\" alt=\"Open In Colab\"/></a>"
      ]
    },
    {
      "cell_type": "markdown",
      "metadata": {
        "id": "YPyCLdRpI0cu"
      },
      "source": [
        "#Métodos de generación de números aleatorios\n"
      ]
    },
    {
      "cell_type": "markdown",
      "source": [
        "### Cuadrado medio. Von Neumann y Metropolis\n",
        "\n",
        "\n",
        "\n"
      ],
      "metadata": {
        "id": "JtxEjSNJzDdP"
      }
    },
    {
      "cell_type": "code",
      "source": [
        "def cuadrados_medios(semilla, n):\n",
        "    # Lee el número ingresado\n",
        "    x_0 = semilla\n",
        "\n",
        "    for i in range(n):\n",
        "        # Eleva el número al cuadrado\n",
        "        x_1 = x_0**2\n",
        "\n",
        "        # Separa los dígitos de x_1 y los convierte en una lista\n",
        "        lista_x1 = [int(a) for a in str(x_1)]\n",
        "\n",
        "        # Toma el cuadrado medio\n",
        "        if len(lista_x1) % 2 == 0:\n",
        "            x_2 = lista_x1[2:6]\n",
        "        else:\n",
        "            x_2 = lista_x1[1:5]\n",
        "        # Une cada elemento de la lista y los convierte de nuevo a un solo número de cuatro dígitos\n",
        "        x_0 = int(''.join(map(str, x_2)))\n",
        "\n",
        "        print(f\"Iteración {i + 1}: {x_0}\")\n",
        "\n",
        "    return x_0\n",
        "\n",
        "# Pedimos al usuario que ingrese un número de 4 dígitos sin ceros\n",
        "semilla = int(input(\"Ingrese un número de 4 dígitos que no contenga algún cero: \"))\n",
        "n_iteraciones = int(input(\"Ingrese la cantidad de iteraciones (n): \"))\n",
        "resultado_final = cuadrados_medios(semilla, n_iteraciones)\n",
        "print(f\"Resultado final después de {n_iteraciones} iteraciones: {resultado_final}\")"
      ],
      "metadata": {
        "colab": {
          "base_uri": "https://localhost:8080/"
        },
        "id": "vwnmV0WpUVxM",
        "outputId": "014f7444-ac66-4e75-80e8-156a32e1b6e3"
      },
      "execution_count": 28,
      "outputs": [
        {
          "output_type": "stream",
          "name": "stdout",
          "text": [
            "Ingrese un número de 4 dígitos que no contenga algún cero: 2932\n",
            "Ingrese la cantidad de iteraciones (n): 5\n",
            "Iteración 1: 5966\n",
            "Iteración 2: 5931\n",
            "Iteración 3: 1767\n",
            "Iteración 4: 1222\n",
            "Iteración 5: 4932\n",
            "Resultado final después de 5 iteraciones: 4932\n"
          ]
        }
      ]
    }
  ],
  "metadata": {
    "colab": {
      "provenance": [],
      "authorship_tag": "ABX9TyPHnnQ33fcuM7ncgYPgFrwn",
      "include_colab_link": true
    },
    "kernelspec": {
      "display_name": "Python 3",
      "name": "python3"
    },
    "language_info": {
      "name": "python"
    }
  },
  "nbformat": 4,
  "nbformat_minor": 0
}